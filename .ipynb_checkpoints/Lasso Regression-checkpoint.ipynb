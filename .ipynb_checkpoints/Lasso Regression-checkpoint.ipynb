{
 "cells": [
  {
   "cell_type": "markdown",
   "metadata": {},
   "source": [
    "## Camille Porter \n",
    "\n",
    "When simulating data in a regression setting, a couple of things should be kept in mind.\n",
    "\n",
    "Data is simulated from the model y = X β + ε , where y ∈ R^n are the responses, X ∈ R^(n × p) contains the features,  β ∈ R^p is a vector of coefficients, and ε ∈ R^n is a vector of residual noise. A strategy to simulate data from the model is to \n",
    "    1. Simulate β ∼ N ( 0 , I_p ) entry-wise. \n",
    "    2. Simulate each entry of X from a normal distribution with mean zero [leads to features being somewhat centered around 0]. The standard deviation can be 1 or potentially 1/sqrt(p). The latter avoids that Xβ has quite large values.\n",
    "    3. Modify β according to the instructions in the assignments.\n",
    "    4. The noise ε ∼ N (0 , σ^2 I_n) determines the so-called signal-to-noise ratio of the \"true\" signal X β to the noise ε. It is calculated as the standard deviation of Xβ divided by the standard deviation of ε, in short with constants canceling out SNR = ‖Xβ‖_2 / ‖ε‖_2 . It is possible and desirable to control the signal-to-noise ratio of simulated data. One possibility is to choose σ and then  observe the SNR to see if it is reasonable. Another is to choose σ such that the generated data has SNR close to a target. Let γ be the target level for the SNR, then σ = sqrt( ‖X β‖ 2 2 / (n−1) )/ γ.\n",
    "    5. Set y = X β + ε which is the observed response. If σ is chosen as described above, then the SNR of y is γ .\n"
   ]
  },
  {
   "cell_type": "markdown",
   "metadata": {},
   "source": [
    "The idea of this assignment is to explore how robust the group lasso is to misspecification of groups. In an actual data analysis, it might be known that features are grouped but the groups might not be very clear. For example, groups of people in a social study could be their family, circle of friends, colleagues, ... In addition to the fact that there are many different groupings, it is also not always clear where to end the group. Is a consultant working for a different company but sitting in your office a colleague?\n",
    "\n",
    "Throughout this assignment, simulate data from a linear regression model, as described in the link above, with groups of coefficients that are either all zero or all non-zero. \n",
    "\n",
    "Address the following topics:\n",
    "\n",
    "    1. Benchmark first the performance of the group lasso when the correct groups are given to the group lasso procedure. As long as n is sufficiently large and the SNR is reasonable (>= 10) the original zero groups should be set to zero and analogously for the original non-zero groups.\n",
    "    2. What happens when you change the groups, i.e. when you pass the wrong group assignments to the group lasso?\n",
    "        a. Example: If the correct grouping is 1 1 1 2 2 2 3 3 3, an alternative for a wrong assignment could be \n",
    "            1 2 3 1 2 3 1 2 3.\n",
    "        b. Are there “wrong” group assignments that are less problematic than others?\n",
    "    3. Explore also the effect of correlation between features in groups and between groups\n"
   ]
  },
  {
   "cell_type": "code",
   "execution_count": 1,
   "metadata": {},
   "outputs": [],
   "source": [
    "import numpy as np\n",
    "import matplotlib.pyplot as plt\n",
    "from sklearn.metrics import r2_score\n",
    "\n",
    "from group_lasso import GroupLasso\n",
    "#  to use lasso based models for variable selection, the regularisation coefficient should \n",
    "#  be quite high, resulting in sub-par performance on the actual task of interest. Therefore, \n",
    "#  it is common to first use a lasso-like algorithm to select the relevant features before \n",
    "#  using another another algorithm (say ridge regression) for the task at hand. \n",
    "\n",
    "np.random.seed(0)"
   ]
  },
  {
   "cell_type": "code",
   "execution_count": 22,
   "metadata": {},
   "outputs": [
    {
     "data": {
      "text/plain": [
       "'def generate_data(n, p, mu, sigma):\\n    #I_p = numpy.matlib.identity(p, dtype=int) #  square identity matrix of size p\\n    \\n    # should be matrix of of p x 1, but is 10 x 1\\n    vector = np.random.default_rng().normal(mu, sigma, (p, 1)) # mean, sd, size\\n\\n    # I don\\'t know why, but this makes B actually length p (the command before didn\\'t)\\n    # matrix of p x 1\\n    Betas = np.array(vector).reshape(p, 1)\\n\\n    # a matrix of size n x p \\n    X = np.random.default_rng().normal(mu, sigma, (n, p))\\n    \\n    # a matrix of size n x 1\\n    epsilon = np.random.default_rng().normal(mu, .1, (n, 1))\\n    \\n    # SNR = standard deviation of Xβ divided by the standard deviation of ε\\n    print(\"Signal to Noise Ratio is: \", sigma/.1) \\n\\n    #y = x*beta + e\\n    # matrix of size n x 1\\n    y = numpy.matmul(X, Betas) + epsilon\\n    \\n    return X, Betas, epsilon, y\\n\\nn = 500 # number of samples\\np = 50 # number of features\\n\\nmu, sigma = 0, 1\\nX, Betas, epsilon, y = generate_data(n, p, mu, sigma)\\n#print(X, \"Betas\", Betas, \"epsilon\", epsilon, \"y\", y)'"
      ]
     },
     "execution_count": 22,
     "metadata": {},
     "output_type": "execute_result"
    }
   ],
   "source": [
    "'''def generate_data(n, p, mu, sigma):\n",
    "    #I_p = numpy.matlib.identity(p, dtype=int) #  square identity matrix of size p\n",
    "    \n",
    "    # should be matrix of of p x 1, but is 10 x 1\n",
    "    vector = np.random.default_rng().normal(mu, sigma, (p, 1)) # mean, sd, size\n",
    "\n",
    "    # I don't know why, but this makes B actually length p (the command before didn't)\n",
    "    # matrix of p x 1\n",
    "    Betas = np.array(vector).reshape(p, 1)\n",
    "\n",
    "    # a matrix of size n x p \n",
    "    X = np.random.default_rng().normal(mu, sigma, (n, p))\n",
    "    \n",
    "    # a matrix of size n x 1\n",
    "    epsilon = np.random.default_rng().normal(mu, .1, (n, 1))\n",
    "    \n",
    "    # SNR = standard deviation of Xβ divided by the standard deviation of ε\n",
    "    print(\"Signal to Noise Ratio is: \", sigma/.1) \n",
    "\n",
    "    #y = x*beta + e\n",
    "    # matrix of size n x 1\n",
    "    y = numpy.matmul(X, Betas) + epsilon\n",
    "    \n",
    "    return X, Betas, epsilon, y\n",
    "    \n",
    "    # a matrix of size n x 1\n",
    "    epsilon = np.random.default_rng().normal(mu, .1, (n, 1))\n",
    "    \n",
    "    # SNR = standard deviation of Xβ divided by the standard deviation of ε\n",
    "    print(\"Signal to Noise Ratio is: \", sigma/.1) \n",
    "\n",
    "    #y = x*beta + e\n",
    "    # matrix of size n x 1\n",
    "    y = numpy.matmul(X, Betas) + epsilon\n",
    "    \n",
    "    return X, Betas, epsilon, y\n",
    "\n",
    "n = 500 # number of samples\n",
    "p = 50 # number of features\n",
    "\n",
    "mu, sigma = 0, 1\n",
    "X, Betas, epsilon, y = generate_data(n, p, mu, sigma)\n",
    "#print(X, \"Betas\", Betas, \"epsilon\", epsilon, \"y\", y)'''"
   ]
  },
  {
   "cell_type": "code",
   "execution_count": 147,
   "metadata": {},
   "outputs": [],
   "source": [
    "def generate_data(n, mu, sigma, noise_std, group_number, group_size):\n",
    "    \n",
    "    # n should be divisible by group_size\n",
    "    if(n%group_size !=0):\n",
    "        raise ValueError('n should be evenly divisible by group_size')\n",
    "    \n",
    "    # return a vector of group_number groups of 20\n",
    "    group_sizes = [group_size for i in range(group_number)]\n",
    "    #[np.random.randint(10, 20) for i in range(group_number)]\n",
    "    \n",
    "    #returns a vector of size group_number * group_size of 0 or 1 for if the group was active\n",
    "    active_groups = [np.random.randint(2) for _ in group_sizes]\n",
    "    \n",
    "    #creates group_number groups\n",
    "    groups = np.concatenate(\n",
    "            [size * [i] for i, size in enumerate(group_sizes)]\n",
    "            ).reshape(-1, 1)\n",
    "    \n",
    "    p = sum(group_sizes) # num_coeffs\n",
    "    \n",
    "    # a matrix of size n x p \n",
    "    X = np.random.default_rng().normal(mu, sigma, (n, p))\n",
    "    \n",
    "    # generate coefficients\n",
    "    w = np.concatenate(\n",
    "        [\n",
    "        np.random.standard_normal(group_size) * is_active\n",
    "        for group_size, is_active in zip(group_sizes, active_groups)\n",
    "        ]\n",
    "    )\n",
    "    \n",
    "    w = w.reshape(-1, 1)\n",
    "    \n",
    "    true_coefficient_mask = w != 0\n",
    "    intercept = 2\n",
    "\n",
    "    # generate regression targets\n",
    "    y_true = X @ w + intercept\n",
    "    y = y_true + np.random.randn(*y_true.shape) * noise_std\n",
    "    \n",
    "    return X, y, y_true, w, groups, intercept"
   ]
  },
  {
   "cell_type": "code",
   "execution_count": 135,
   "metadata": {},
   "outputs": [],
   "source": [
    "def plot_R2(y, y_true):\n",
    "    # view data and compute R2 \n",
    "    plt.figure()\n",
    "    plt.plot(y, y_true, \".\")\n",
    "    plt.xlabel(\"Noisy targets\")\n",
    "    plt.ylabel(\"Noise-free targets\")\n",
    "    # Use noisy y as true because that is what we would have access\n",
    "    # to in a real-life setting.\n",
    "    R2_best = r2_score(y, y_true)\n",
    "    \n",
    "    return R2_best"
   ]
  },
  {
   "cell_type": "code",
   "execution_count": 159,
   "metadata": {},
   "outputs": [],
   "source": [
    "# generate estimator and train\n",
    "def estimate(groups, X, y, R2_best):\n",
    "    gl = GroupLasso(\n",
    "        groups=groups,\n",
    "        group_reg=5,\n",
    "        l1_reg=0,\n",
    "        frobenius_lipschitz=True,\n",
    "        scale_reg=\"inverse_group_size\",\n",
    "        subsampling_scheme=1,\n",
    "        supress_warning=True,\n",
    "        n_iter=1000,\n",
    "        tol=1e-3,\n",
    "    )\n",
    "    gl.fit(X, y)\n",
    "\n",
    "    # Extract info from estimator\n",
    "    yhat = gl.predict(X)\n",
    "    sparsity_mask = gl.sparsity_mask_\n",
    "    w_hat = gl.coef_\n",
    "    print(w_hat)\n",
    "\n",
    "    # Compute performance metrics\n",
    "    R2 = r2_score(y, yhat)\n",
    "\n",
    "    # Print results\n",
    "    print(f\"Number variables: {len(sparsity_mask)}\")\n",
    "    print(f\"Number of chosen variables: {sparsity_mask.sum()}\")\n",
    "    print(f\"R^2: {R2}, best possible R^2 = {R2_best}\")\n",
    "    \n",
    "    return w_hat, gl"
   ]
  },
  {
   "cell_type": "code",
   "execution_count": null,
   "metadata": {},
   "outputs": [],
   "source": [
    "# Explore also the effect of correlation between features in groups and between groups\n",
    "\n",
    "# make a correlation matrix"
   ]
  },
  {
   "cell_type": "code",
   "execution_count": 160,
   "metadata": {},
   "outputs": [
    {
     "name": "stdout",
     "output_type": "stream",
     "text": [
      "[[ 3.42211480e-01]\n",
      " [-3.52948192e-01]\n",
      " [-6.58075259e-01]\n",
      " [ 3.47525384e-01]\n",
      " [-6.72638937e-01]\n",
      " [ 3.20009328e-01]\n",
      " [ 1.93822365e+00]\n",
      " [ 4.94257046e-01]\n",
      " [ 3.77424092e-02]\n",
      " [ 9.33900726e-02]\n",
      " [ 1.89309084e-01]\n",
      " [-3.72688729e-01]\n",
      " [-2.70956979e-01]\n",
      " [-2.91842277e-01]\n",
      " [ 2.71025510e-01]\n",
      " [-1.08274734e+00]\n",
      " [ 1.17408223e+00]\n",
      " [-8.90570605e-02]\n",
      " [ 1.64409422e-01]\n",
      " [-3.85552463e-01]\n",
      " [-3.95687297e-01]\n",
      " [-4.91511029e-02]\n",
      " [-3.74467155e-01]\n",
      " [ 4.84499128e-01]\n",
      " [ 5.72020679e-01]\n",
      " [-1.03522128e-01]\n",
      " [ 1.18842554e-01]\n",
      " [-4.64261244e-02]\n",
      " [-1.30402313e-01]\n",
      " [-6.45437336e-01]\n",
      " [-3.77178726e-01]\n",
      " [ 2.92115123e-01]\n",
      " [-4.74862989e-01]\n",
      " [-4.85705557e-02]\n",
      " [ 3.81911687e-01]\n",
      " [ 4.48832743e-03]\n",
      " [-1.09238921e-02]\n",
      " [ 6.78149693e-02]\n",
      " [ 1.77236189e-03]\n",
      " [ 6.25798651e-01]\n",
      " [ 2.32743466e+00]\n",
      " [-8.98274332e-01]\n",
      " [-1.93006237e-01]\n",
      " [ 1.39312534e-01]\n",
      " [-4.18792116e-03]\n",
      " [ 4.47834731e-01]\n",
      " [-2.50314412e-01]\n",
      " [-4.54046827e-01]\n",
      " [ 7.66026984e-01]\n",
      " [ 2.40447329e-01]\n",
      " [-4.31920424e-01]\n",
      " [-5.13231196e-01]\n",
      " [ 4.15762572e-02]\n",
      " [-3.29222212e-02]\n",
      " [ 9.51652089e-01]\n",
      " [ 3.74482856e-01]\n",
      " [ 2.02032659e-01]\n",
      " [ 7.07382546e-02]\n",
      " [ 3.73221079e-02]\n",
      " [ 4.81947257e-02]\n",
      " [ 6.37557719e-01]\n",
      " [-3.24783533e-01]\n",
      " [ 3.18769284e-01]\n",
      " [-7.26291720e-01]\n",
      " [-7.45826581e-01]\n",
      " [-6.97849992e-01]\n",
      " [ 1.39328963e-01]\n",
      " [ 2.76807556e-01]\n",
      " [-9.28213336e-01]\n",
      " [ 3.92903718e-01]\n",
      " [ 5.57147587e-01]\n",
      " [ 7.44529385e-01]\n",
      " [ 1.11481903e-01]\n",
      " [ 7.66441055e-01]\n",
      " [-1.70067455e+00]\n",
      " [-6.90621255e-01]\n",
      " [ 5.30753759e-01]\n",
      " [ 4.20522745e-01]\n",
      " [-1.13865433e-01]\n",
      " [-1.90351454e-01]\n",
      " [-1.54890457e-01]\n",
      " [-9.59932889e-01]\n",
      " [ 1.56381289e-01]\n",
      " [-4.33607810e-01]\n",
      " [-5.08394491e-01]\n",
      " [-5.40729624e-02]\n",
      " [-3.22840903e-01]\n",
      " [-4.05993809e-01]\n",
      " [-4.81996115e-01]\n",
      " [ 3.96954129e-01]\n",
      " [ 2.25764396e-01]\n",
      " [-1.17090698e-01]\n",
      " [ 8.34086572e-01]\n",
      " [-3.74394165e-01]\n",
      " [-5.39000542e-01]\n",
      " [ 4.61171861e-01]\n",
      " [ 5.22448786e-01]\n",
      " [-1.48292111e+00]\n",
      " [-8.06644308e-01]\n",
      " [ 4.23146274e-01]\n",
      " [ 3.26587014e-01]\n",
      " [ 1.31426848e-01]\n",
      " [ 6.41533392e-01]\n",
      " [-7.05135088e-01]\n",
      " [-1.28843868e+00]\n",
      " [ 9.11846669e-01]\n",
      " [-2.78130142e-02]\n",
      " [-2.64416776e-01]\n",
      " [-8.06367784e-01]\n",
      " [ 4.94578982e-01]\n",
      " [ 1.47473603e-01]\n",
      " [ 4.98171654e-01]\n",
      " [-6.13610826e-01]\n",
      " [ 3.28310052e-01]\n",
      " [-3.15541114e-01]\n",
      " [-1.17423666e+00]\n",
      " [ 6.98229400e-01]\n",
      " [-1.38560284e+00]\n",
      " [-1.29789899e-01]\n",
      " [ 1.01674743e+00]]\n",
      "Number variables: 120\n",
      "Number of chosen variables: 120\n",
      "R^2: 0.37555921841280326, best possible R^2 = 0.2975630604128101\n"
     ]
    },
    {
     "data": {
      "image/png": "[encoded data removed]",
      "text/plain": [
       "<Figure size 432x288 with 1 Axes>"
      ]
     },
     "metadata": {
      "needs_background": "light"
     },
     "output_type": "display_data"
    }
   ],
   "source": [
    "n = 500 # num_datapoints\n",
    "noise_std = 15\n",
    "mu, sigma = 0, 1\n",
    "group_number = 6\n",
    "group_size = 20\n",
    "# n should be divisible by group_size\n",
    "X, y, y_true, w, groups, intercept = generate_data(n, mu, sigma, noise_std, group_number, group_size)\n",
    "\n",
    "R2_best = plot_R2(y, y_true)\n",
    "\n",
    "\n",
    "group = [np.random.randint(0,group_number) for i in range(len(groups))]\n",
    "#print(len(groups))\n",
    "\n",
    "w_hat, gl = estimate(group, X, y, R2_best)"
   ]
  },
  {
   "cell_type": "code",
   "execution_count": 156,
   "metadata": {},
   "outputs": [
    {
     "name": "stdout",
     "output_type": "stream",
     "text": [
      "X shape: (500, 120)\n",
      "True intercept: 2\n",
      "Estimated intercept: [2.47975028]\n"
     ]
    },
    {
     "data": {
      "image/png": "[encoded data removed]",
      "text/plain": [
       "<Figure size 432x288 with 1 Axes>"
      ]
     },
     "metadata": {
      "needs_background": "light"
     },
     "output_type": "display_data"
    },
    {
     "data": {
      "image/png": "[encoded data removed]",
      "text/plain": [
       "<Figure size 432x288 with 1 Axes>"
      ]
     },
     "metadata": {
      "needs_background": "light"
     },
     "output_type": "display_data"
    }
   ],
   "source": [
    "# visualize regression coefficients\n",
    "\n",
    "plt.figure()\n",
    "plt.plot(w, \".\", label=\"True weights\")\n",
    "plt.plot(w_hat, \".\", label=\"Estimated weights\")\n",
    "plt.legend()\n",
    "\n",
    "plt.figure()\n",
    "plt.plot([w.min(), w.max()], [w_hat.min(), w_hat.max()], \"gray\")\n",
    "#plt.plot([-1,-1], [1,1], \"gray\")\n",
    "plt.scatter(w, w_hat, s=10)\n",
    "plt.ylabel(\"Learned coefficients\")\n",
    "plt.xlabel(\"True coefficients\")\n",
    "\n",
    "#plg.figure()\n",
    "#plt.plot(w_hat, )\n",
    "\n",
    "'''\n",
    "plt.figure()\n",
    "plt.plot(gl.losses_)\n",
    "plt.title(\"Loss plot\")\n",
    "plt.ylabel(\"Mean squared error\")\n",
    "plt.xlabel(\"Iteration\")'''\n",
    "\n",
    "print(\"X shape: {X.shape}\".format(X=X))\n",
    "print(\"True intercept: {intercept}\".format(intercept=intercept))\n",
    "print(\"Estimated intercept: {intercept}\".format(intercept=gl.intercept_))\n",
    "plt.show()"
   ]
  },
  {
   "cell_type": "code",
   "execution_count": null,
   "metadata": {},
   "outputs": [],
   "source": []
  }
 ],
 "metadata": {
  "kernelspec": {
   "display_name": "Python 3",
   "language": "python",
   "name": "python3"
  },
  "language_info": {
   "codemirror_mode": {
    "name": "ipython",
    "version": 3
   },
   "file_extension": ".py",
   "mimetype": "text/x-python",
   "name": "python",
   "nbconvert_exporter": "python",
   "pygments_lexer": "ipython3",
   "version": "3.8.5"
  }
 },
 "nbformat": 4,
 "nbformat_minor": 4
}
